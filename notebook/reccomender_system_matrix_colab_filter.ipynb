{
 "cells": [
  {
   "cell_type": "code",
   "execution_count": 1,
   "id": "70e93244",
   "metadata": {},
   "outputs": [],
   "source": [
    "#Step 1 : Import required packages\n",
    "import pandas as pd\n",
    "import numpy as np\n",
    "from surprise import Dataset, Reader, SVD\n",
    "from surprise.model_selection import GridSearchCV\n",
    "from sklearn.model_selection import train_test_split  # Corrected import\n",
    "from sklearn.metrics import mean_squared_error\n",
    "\n"
   ]
  },
  {
   "cell_type": "code",
   "execution_count": 2,
   "id": "de7bb1e7",
   "metadata": {},
   "outputs": [],
   "source": [
    "# Custom RMSE Function\n",
    "def custom_rmse(y_true, y_pred):\n",
    "    return np.sqrt(mean_squared_error(y_true, y_pred))\n"
   ]
  },
  {
   "cell_type": "code",
   "execution_count": 3,
   "id": "1085b4df",
   "metadata": {},
   "outputs": [
    {
     "name": "stdout",
     "output_type": "stream",
     "text": [
      "Index(['user_id', 'article_id', 'rating'], dtype='object')\n",
      "   user_id  article_id  rating\n",
      "0        1         456       1\n",
      "1        1        2934       1\n",
      "2        1          82       1\n",
      "3        1        1365       1\n",
      "4        1         221       1\n"
     ]
    }
   ],
   "source": [
    "# Load \n",
    "train_df = pd.read_csv('/Users/paramanandbhat/Downloads/Article_Recommendation 2/train.csv')\n",
    "article_info_df = pd.read_csv('/Users/paramanandbhat/Downloads/Article_Recommendation 2/article_info.csv')\n",
    "\n",
    "\n",
    "print(train_df.columns)\n",
    "print(train_df.head())\n",
    "\n"
   ]
  },
  {
   "cell_type": "code",
   "execution_count": 4,
   "id": "d57a374d",
   "metadata": {},
   "outputs": [
    {
     "data": {
      "text/plain": [
       "<surprise.prediction_algorithms.matrix_factorization.SVD at 0x160e9e290>"
      ]
     },
     "execution_count": 4,
     "metadata": {},
     "output_type": "execute_result"
    }
   ],
   "source": [
    " #Merge Data\n",
    "train_df_merged = train_df.merge(article_info_df, on='article_id', how='left')\n",
    "\n",
    "# Split Train Data into Train and Validation Sets\n",
    "X_train, X_valid = train_test_split(train_df_merged, test_size=0.25, random_state=42)\n",
    "\n",
    "# Prepare Data for Surprise Library\n",
    "reader = Reader(rating_scale=(1, 5))\n",
    "data_train = Dataset.load_from_df(X_train[['user_id', 'article_id', 'rating']], reader)\n",
    "\n",
    "# Fitting SVD Model with 100 Latent Factors on Train Set\n",
    "trainset = data_train.build_full_trainset()\n",
    "model = SVD(n_factors=100)\n",
    "model.fit(trainset)\n"
   ]
  },
  {
   "cell_type": "code",
   "execution_count": 5,
   "id": "f55e9c34",
   "metadata": {},
   "outputs": [
    {
     "name": "stdout",
     "output_type": "stream",
     "text": [
      "Validation RMSE: 0.915201181804389\n"
     ]
    }
   ],
   "source": [
    "# Validate Model\n",
    "validset = X_valid[['user_id', 'article_id', 'rating']].values.tolist()\n",
    "predictions_valid = model.test(validset)\n",
    "y_true_valid = [pred.r_ui for pred in predictions_valid]\n",
    "y_pred_valid = [pred.est for pred in predictions_valid]\n",
    "accuracy_valid = custom_rmse(y_true_valid, y_pred_valid)\n",
    "print(f\"Validation RMSE: {accuracy_valid}\")\n"
   ]
  },
  {
   "cell_type": "code",
   "execution_count": 6,
   "id": "7986617d",
   "metadata": {},
   "outputs": [],
   "source": [
    "# Grid Search for SVD\n",
    "param_grid = {'n_factors': list(range(1, 50, 5)), 'n_epochs': [5, 10, 20], 'random_state': [42]}\n",
    "gs = GridSearchCV(SVD, param_grid, measures=['rmse'], cv=5, n_jobs=-1)\n",
    "gs.fit(data_train)\n",
    "\n"
   ]
  },
  {
   "cell_type": "code",
   "execution_count": 7,
   "id": "bf226ee7",
   "metadata": {},
   "outputs": [
    {
     "data": {
      "text/plain": [
       "<surprise.prediction_algorithms.matrix_factorization.SVD at 0x163e0f7d0>"
      ]
     },
     "execution_count": 7,
     "metadata": {},
     "output_type": "execute_result"
    }
   ],
   "source": [
    "# Best SVD Model\n",
    "model_best = SVD(n_factors=gs.best_params['rmse']['n_factors'], n_epochs=gs.best_params['rmse']['n_epochs'], random_state=42)\n",
    "model_best.fit(trainset)\n"
   ]
  },
  {
   "cell_type": "code",
   "execution_count": 8,
   "id": "071c0d1b",
   "metadata": {},
   "outputs": [],
   "source": [
    "# Test Set Predictions\n",
    "test_df = pd.read_csv('/Users/paramanandbhat/Downloads/Article_Recommendation 2/test.csv')\n",
    "testset = list(zip(test_df['user_id'], test_df['article_id'], [None]*len(test_df)))\n",
    "predictions_test = model_best.test(testset)\n"
   ]
  },
  {
   "cell_type": "code",
   "execution_count": 9,
   "id": "58c8f03d",
   "metadata": {},
   "outputs": [
    {
     "name": "stdout",
     "output_type": "stream",
     "text": [
      "   user_id  article_id    rating\n",
      "0        1        2607  1.343994\n",
      "1        1        1445  1.353371\n",
      "2        1         911  1.286464\n",
      "3        1         857  1.450287\n",
      "4        1        2062  1.502759\n"
     ]
    }
   ],
   "source": [
    "# Add Predictions to Test DataFrame\n",
    "test_df['rating'] = [pred.est for pred in predictions_test]\n",
    "\n",
    "# Rename 'predicted_rating' column to 'rating'\n",
    "# test_df.rename(columns={'predicted_rating': 'rating'}, inplace=True)\n",
    "\n",
    "# Save the DataFrame with the new 'rating' column\n",
    "test_df.to_csv('/Users/paramanandbhat/Downloads/Article_Recommendation 2/matrix_test_with_predictions.csv', index=False)\n",
    "\n",
    "# Print First Few Rows of Test DataFrame with Predictions\n",
    "print(test_df.head())\n"
   ]
  },
  {
   "cell_type": "code",
   "execution_count": null,
   "id": "f548bfe1",
   "metadata": {},
   "outputs": [],
   "source": []
  },
  {
   "cell_type": "code",
   "execution_count": null,
   "id": "fbf838bf",
   "metadata": {},
   "outputs": [],
   "source": []
  }
 ],
 "metadata": {
  "kernelspec": {
   "display_name": "Python 3 (ipykernel)",
   "language": "python",
   "name": "python3"
  },
  "language_info": {
   "codemirror_mode": {
    "name": "ipython",
    "version": 3
   },
   "file_extension": ".py",
   "mimetype": "text/x-python",
   "name": "python",
   "nbconvert_exporter": "python",
   "pygments_lexer": "ipython3",
   "version": "3.11.4"
  }
 },
 "nbformat": 4,
 "nbformat_minor": 5
}
