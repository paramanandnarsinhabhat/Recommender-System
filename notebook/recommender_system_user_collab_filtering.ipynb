{
 "cells": [
  {
   "cell_type": "code",
   "execution_count": 1,
   "id": "911ce8fd",
   "metadata": {},
   "outputs": [],
   "source": [
    "#Step 1 : Import required packages\n",
    "import pandas as pd\n",
    "import numpy as np\n",
    "from sklearn.metrics import mean_squared_error\n",
    "from sklearn.model_selection import train_test_split\n"
   ]
  },
  {
   "cell_type": "code",
   "execution_count": 2,
   "id": "e2c5b593",
   "metadata": {},
   "outputs": [
    {
     "name": "stdout",
     "output_type": "stream",
     "text": [
      "   user_id  article_id  rating\n",
      "0        1         456       1\n",
      "1        1        2934       1\n",
      "2        1          82       1\n",
      "3        1        1365       1\n",
      "4        1         221       1\n",
      "Index(['user_id', 'article_id', 'rating'], dtype='object')\n",
      "   article_id     website                                              title  \\\n",
      "0        1025  uxmovement  Comment concevoir une procédure pas à pas que ...   \n",
      "1        2328    endeavor  Ressources humaines? Seulement si vous optez p...   \n",
      "2        2469    linkedin           Deux motions de vente différentes. . . .   \n",
      "3        2590  googleblog  Apprentissage large et profond: mieux avec Ten...   \n",
      "4         697       infoq              Agile: manque de compétences en tests   \n",
      "\n",
      "                                             content  \n",
      "0  par anthony le 18/07/16 à 8h02 Si une nouvelle...  \n",
      "1  «Ambassadeurs», «avocats», «porte-parole» d'un...  \n",
      "2  J'ai passé pas mal de temps récemment avec des...  \n",
      "3  \"Apprenez les règles comme un pro, afin de pou...  \n",
      "4  Fran O'Hara, directeur et consultant principal...  \n",
      "Index(['article_id', 'website', 'title', 'content'], dtype='object')\n"
     ]
    }
   ],
   "source": [
    "#Step 2 : Reading Dataset\n",
    "#Reading train file\n",
    "\n",
    "train_df = pd.read_csv('/Users/paramanandbhat/Downloads/Article_Recommendation 2/train.csv')\n",
    "\n",
    "print(train_df.head())\n",
    "print(train_df.columns)\n",
    "\n",
    "#Reading article info file\n",
    "\n",
    "article_info_df = pd.read_csv('/Users/paramanandbhat/Downloads/Article_Recommendation 2/article_info.csv')\n",
    "\n",
    "print(article_info_df.head())\n",
    "\n",
    "print(article_info_df.columns)\n",
    "\n"
   ]
  },
  {
   "cell_type": "code",
   "execution_count": 3,
   "id": "d693fad6",
   "metadata": {},
   "outputs": [
    {
     "name": "stdout",
     "output_type": "stream",
     "text": [
      "   user_id  article_id\n",
      "0        1        2607\n",
      "1        1        1445\n",
      "2        1         911\n",
      "3        1         857\n",
      "4        1        2062\n",
      "Index(['user_id', 'article_id'], dtype='object')\n"
     ]
    }
   ],
   "source": [
    "#Reading test file\n",
    "\n",
    "test_df = pd.read_csv('/Users/paramanandbhat/Downloads/Article_Recommendation 2/test.csv')\n",
    "\n",
    "print(test_df.head())\n",
    "\n",
    "print(test_df.columns)\n"
   ]
  },
  {
   "cell_type": "code",
   "execution_count": 4,
   "id": "e130e371",
   "metadata": {},
   "outputs": [
    {
     "name": "stdout",
     "output_type": "stream",
     "text": [
      "Index(['user_id', 'article_id', 'rating', 'website', 'title', 'content'], dtype='object')\n"
     ]
    }
   ],
   "source": [
    "#Step 2: Data Preparation\n",
    "'''We'll start by merging the article_info dataset with the\n",
    " train and test datasets. This is to ensure that the article details \n",
    " are incorporated into the model training and evaluation process.'''\n",
    "\n",
    "\n",
    "# Merging article information with the training and test datasets\n",
    "\n",
    "train_df = train_df.merge(article_info_df, on='article_id', how='left')\n",
    "\n",
    "print(train_df.columns)\n"
   ]
  },
  {
   "cell_type": "code",
   "execution_count": 5,
   "id": "aa1b065b",
   "metadata": {},
   "outputs": [
    {
     "name": "stdout",
     "output_type": "stream",
     "text": [
      "Index(['user_id', 'article_id', 'website', 'title', 'content'], dtype='object')\n"
     ]
    }
   ],
   "source": [
    "test_df = test_df.merge(article_info_df, on='article_id', how='left')\n",
    "\n",
    "print(test_df.columns)\n"
   ]
  },
  {
   "cell_type": "code",
   "execution_count": 6,
   "id": "94ba1990",
   "metadata": {},
   "outputs": [
    {
     "name": "stdout",
     "output_type": "stream",
     "text": [
      "{'Merged Training Data':    user_id  article_id  rating     website  \\\n",
      "0        1         456       1      medium   \n",
      "1        1        2934       1   thestreet   \n",
      "2        1          82       1    facebook   \n",
      "3        1        1365       1  techcrunch   \n",
      "4        1         221       1    geekwire   \n",
      "\n",
      "                                               title  \\\n",
      "0  Obtenez 6 mois d'accès à Pluralsight, la plus ...   \n",
      "1  La plateforme cloud de Google est désormais un...   \n",
      "2        La technologie derrière les photos d'aperçu   \n",
      "3  Les VM préemptives de Google Cloud Platform so...   \n",
      "4  Ray Kurzweil: Le monde ne se détériore pas - n...   \n",
      "\n",
      "                                             content  \n",
      "0  Obtenez 6 mois d'accès à Pluralsight, la plus ...  \n",
      "1  Bien que la plate-forme Google Cloud (GCP) ne ...  \n",
      "2  Les premières impressions comptent, que vous s...  \n",
      "3  Pendant un certain temps, Google, Amazon et Mi...  \n",
      "4  Ray Kurzweil, l'auteur, inventeur, informatici...  , 'Merged Test Data':    user_id  article_id        website  \\\n",
      "0        1        2607        netflix   \n",
      "1        1        1445       troyhunt   \n",
      "2        1         911  stackoverflow   \n",
      "3        1         857         caelum   \n",
      "4        1        2062         medium   \n",
      "\n",
      "                                               title  \\\n",
      "0  Zuul 2: Le voyage de Netflix vers des systèmes...   \n",
      "1  Notre hachage de mot de passe n'a pas de vêtem...   \n",
      "2  Pourquoi les programmeurs veulent des bureaux ...   \n",
      "3                         Java 9 en pratique: Jigsaw   \n",
      "4  Comment j'ai créé une application avec 500000 ...   \n",
      "\n",
      "                                             content  \n",
      "0  Nous avons récemment apporté un changement arc...  \n",
      "1  Au début, il y avait un hachage de mot de pass...  \n",
      "2  Demandez à l'un de vos employés ou collègues c...  \n",
      "3  On a longtemps parlé de la modularisation de l...  \n",
      "4  Comment j'ai construit une application avec 50...  }\n"
     ]
    }
   ],
   "source": [
    "# Displaying the first few rows of the merged training and test datasets\n",
    "merged_data_samples = {\n",
    "    \"Merged Training Data\": train_df.head(),\n",
    "    \"Merged Test Data\": test_df.head()\n",
    "}\n",
    "print(merged_data_samples)"
   ]
  },
  {
   "cell_type": "code",
   "execution_count": 7,
   "id": "f196aafc",
   "metadata": {},
   "outputs": [
    {
     "data": {
      "text/plain": [
       "'Merged Training Data: Contains user_id, article_id, rating, website, title, and content.\\nMerged Test Data: Contains user_id, article_id, website, title, and content, but lacks the rating '"
      ]
     },
     "execution_count": 7,
     "metadata": {},
     "output_type": "execute_result"
    }
   ],
   "source": [
    "'''Merged Training Data: Contains user_id, article_id, rating, website, title, and content.\n",
    "Merged Test Data: Contains user_id, article_id, website, title, and content, but lacks the rating '''\n"
   ]
  },
  {
   "cell_type": "code",
   "execution_count": 8,
   "id": "3d6d5518",
   "metadata": {},
   "outputs": [],
   "source": [
    "#Step 3: Model Adaptation\n",
    "from sklearn.model_selection import train_test_split\n",
    "\n",
    "# Splitting the training data into training and validation sets\n",
    "train_data, validation_data = train_test_split(train_df, test_size=0.25, random_state=42)\n"
   ]
  },
  {
   "cell_type": "code",
   "execution_count": 9,
   "id": "0ee6491a",
   "metadata": {},
   "outputs": [],
   "source": [
    "# Function to compute the RMSE\n",
    "def rmse(y_true, y_pred):\n",
    "    return np.sqrt(mean_squared_error(y_true, y_pred))\n",
    "\n"
   ]
  },
  {
   "cell_type": "code",
   "execution_count": 10,
   "id": "69d19de9",
   "metadata": {},
   "outputs": [
    {
     "name": "stdout",
     "output_type": "stream",
     "text": [
      "Mean model rmse score 1.0420497615166175\n"
     ]
    }
   ],
   "source": [
    "# Creating the ratings matrix for the training data\n",
    "r_matrix = train_data.pivot_table(values='rating', index='user_id', columns='article_id')\n",
    "\n",
    "# User Based Collaborative Filter using Mean Ratings\n",
    "def cf_user_mean(user_id, article_id):\n",
    "    if article_id in r_matrix:\n",
    "        mean_rating = r_matrix[article_id].mean()\n",
    "    else:\n",
    "        mean_rating = train_data['rating'].mean()\n",
    "    return mean_rating\n",
    "\n",
    "# RMSE Score Function\n",
    "def rmse_score(model, data):\n",
    "    id_pairs = zip(data['user_id'], data['article_id'])\n",
    "    y_pred = np.array([model(user, article) for (user, article) in id_pairs])\n",
    "    y_true = np.array(data['rating'])\n",
    "    return rmse(y_true, y_pred)\n",
    "\n",
    "# Compute RMSE for the Mean Model on Validation Data\n",
    "rmse_mean_model = rmse_score(cf_user_mean, validation_data)\n",
    "\n",
    "print(\"Mean model rmse score\", rmse_mean_model)\n"
   ]
  },
  {
   "cell_type": "code",
   "execution_count": 11,
   "id": "523ebe24",
   "metadata": {},
   "outputs": [],
   "source": [
    "# Compute the Pearson Correlation using the ratings matrix\n",
    "pearson_corr = r_matrix.T.corr(method='pearson')\n",
    "\n",
    "# User Based Collaborative Filter using Weighted Mean Ratings\n",
    "def cf_user_wmean(user_id, article_id):\n",
    "    if article_id in r_matrix:\n",
    "        # Mean rating for active user\n",
    "        ra = r_matrix.loc[user_id].mean()\n",
    "        sim_scores = pearson_corr[user_id]\n",
    "        # Keep only positive correlations\n",
    "        sim_scores_pos = sim_scores[sim_scores > 0]\n",
    "        m_ratings = r_matrix[article_id][sim_scores_pos.index]\n",
    "        idx = m_ratings[m_ratings.isnull()].index\n",
    "        m_ratings = m_ratings.dropna()\n",
    "        if len(m_ratings) == 0:\n",
    "            wmean_rating = r_matrix[article_id].mean()\n",
    "        else:   \n",
    "            sim_scores_pos = sim_scores_pos.drop(idx)\n",
    "            m_ratings = m_ratings - r_matrix.loc[m_ratings.index].mean(axis=1)\n",
    "            wmean_rating = ra + (np.dot(sim_scores_pos, m_ratings) / sim_scores_pos.sum())\n",
    "    else:\n",
    "        wmean_rating = train_data['rating'].mean()\n",
    "    \n",
    "    return wmean_rating\n"
   ]
  },
  {
   "cell_type": "code",
   "execution_count": 12,
   "id": "1555193b",
   "metadata": {},
   "outputs": [
    {
     "name": "stdout",
     "output_type": "stream",
     "text": [
      "User rmse 1.0950466136265755\n"
     ]
    }
   ],
   "source": [
    "# Compute RMSE for the Weighted Mean Model on Validation Data\n",
    "rmse_wmean_model = rmse_score(cf_user_wmean, validation_data)\n",
    "print(\"User rmse\",rmse_wmean_model)\n",
    "\n",
    "# Predicting ratings for the test dataset using the User-Based Collaborative Filtering with Weighted Mean Ratings model\n",
    "test_predictions_wmean = test_df.copy()\n",
    "test_predictions_wmean['predicted_rating'] = test_predictions_wmean.apply(\n",
    "    lambda x: cf_user_wmean(x['user_id'], x['article_id']), axis=1)\n",
    "\n",
    "\n",
    "# Renaming the 'predicted_rating' column to 'rating'\n",
    "test_predictions_wmean_renamed = test_predictions_wmean.rename(columns={'predicted_rating': 'rating'})\n"
   ]
  },
  {
   "cell_type": "code",
   "execution_count": 14,
   "id": "7d37fdde",
   "metadata": {},
   "outputs": [
    {
     "name": "stdout",
     "output_type": "stream",
     "text": [
      "/Users/paramanandbhat/Downloads/ImplementationforItemBasedCollaborativeFiltering-201024-234420 (1)/user_collab_filter_predicted_ratings_wmean.csv\n"
     ]
    }
   ],
   "source": [
    "# Saving the test dataset with predicted ratings to a CSV file\n",
    "output_file_path_wmean = '/Users/paramanandbhat/Downloads/ImplementationforItemBasedCollaborativeFiltering-201024-234420 (1)/user_collab_filter_predicted_ratings_wmean.csv'\n",
    "test_predictions_wmean_renamed.to_csv(output_file_path_wmean, index=False)\n",
    "\n",
    "print(output_file_path_wmean)\n",
    "\n"
   ]
  },
  {
   "cell_type": "code",
   "execution_count": null,
   "id": "2b95939f",
   "metadata": {},
   "outputs": [],
   "source": []
  }
 ],
 "metadata": {
  "kernelspec": {
   "display_name": "Python 3 (ipykernel)",
   "language": "python",
   "name": "python3"
  },
  "language_info": {
   "codemirror_mode": {
    "name": "ipython",
    "version": 3
   },
   "file_extension": ".py",
   "mimetype": "text/x-python",
   "name": "python",
   "nbconvert_exporter": "python",
   "pygments_lexer": "ipython3",
   "version": "3.11.4"
  }
 },
 "nbformat": 4,
 "nbformat_minor": 5
}
